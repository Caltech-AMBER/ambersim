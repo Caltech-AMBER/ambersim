{
 "cells": [
  {
   "cell_type": "code",
   "execution_count": 2,
   "metadata": {},
   "outputs": [
    {
     "name": "stdout",
     "output_type": "stream",
     "text": [
      "Wed Nov  8 16:14:37 2023       \n",
      "+-----------------------------------------------------------------------------+\n",
      "| NVIDIA-SMI 525.147.05   Driver Version: 525.147.05   CUDA Version: 12.0     |\n",
      "|-------------------------------+----------------------+----------------------+\n",
      "| GPU  Name        Persistence-M| Bus-Id        Disp.A | Volatile Uncorr. ECC |\n",
      "| Fan  Temp  Perf  Pwr:Usage/Cap|         Memory-Usage | GPU-Util  Compute M. |\n",
      "|                               |                      |               MIG M. |\n",
      "|===============================+======================+======================|\n",
      "|   0  NVIDIA GeForce ...  On   | 00000000:01:00.0  On |                  Off |\n",
      "| 58%   50C    P8    27W / 450W |   1345MiB / 24564MiB |      0%      Default |\n",
      "|                               |                      |                  N/A |\n",
      "+-------------------------------+----------------------+----------------------+\n",
      "|   1  NVIDIA GeForce ...  On   | 00000000:41:00.0 Off |                  Off |\n",
      "| 60%   44C    P8    22W / 450W |    828MiB / 24564MiB |      0%      Default |\n",
      "|                               |                      |                  N/A |\n",
      "+-------------------------------+----------------------+----------------------+\n",
      "                                                                               \n",
      "+-----------------------------------------------------------------------------+\n",
      "| Processes:                                                                  |\n",
      "|  GPU   GI   CI        PID   Type   Process name                  GPU Memory |\n",
      "|        ID   ID                                                   Usage      |\n",
      "|=============================================================================|\n",
      "|    0   N/A  N/A      3510      G   /usr/lib/xorg/Xorg                196MiB |\n",
      "|    0   N/A  N/A      3669      G   /usr/bin/gnome-shell               95MiB |\n",
      "|    0   N/A  N/A      5776      G   ...veSuggestionsOnlyOnDemand       60MiB |\n",
      "|    0   N/A  N/A      6544      G   ...0/usr/lib/firefox/firefox      139MiB |\n",
      "|    0   N/A  N/A   1053829      C   ...amics_policies/bin/python      848MiB |\n",
      "|    1   N/A  N/A      3510      G   /usr/lib/xorg/Xorg                  4MiB |\n",
      "|    1   N/A  N/A   1053829      C   ...amics_policies/bin/python      820MiB |\n",
      "+-----------------------------------------------------------------------------+\n",
      "Setting environment variable to use GPU rendering:\n",
      "env: MUJOCO_GL=egl\n",
      "Checking that the installation succeeded:\n",
      "Installation successful.\n",
      "env: CUDA_VISIBLE_DEVICES=1\n"
     ]
    }
   ],
   "source": [
    "%load_ext autoreload\n",
    "%autoreload 2\n",
    "\n",
    "#@title Check if MuJoCo installation was successful\n",
    "\n",
    "import distutils.util\n",
    "import os\n",
    "import subprocess\n",
    "if subprocess.run('nvidia-smi').returncode:\n",
    "  raise RuntimeError(\n",
    "      'Cannot communicate with GPU. '\n",
    "      'Make sure you are using a GPU Colab runtime. '\n",
    "      'Go to the Runtime menu and select Choose runtime type.')\n",
    "\n",
    "# Add an ICD config so that glvnd can pick up the Nvidia EGL driver.\n",
    "# This is usually installed as part of an Nvidia driver package, but the Colab\n",
    "# kernel doesn't install its driver via APT, and as a result the ICD is missing.\n",
    "# (https://github.com/NVIDIA/libglvnd/blob/master/src/EGL/icd_enumeration.md)\n",
    "NVIDIA_ICD_CONFIG_PATH = '/usr/share/glvnd/egl_vendor.d/10_nvidia.json'\n",
    "if not os.path.exists(NVIDIA_ICD_CONFIG_PATH):\n",
    "  with open(NVIDIA_ICD_CONFIG_PATH, 'w') as f:\n",
    "    f.write(\"\"\"{\n",
    "    \"file_format_version\" : \"1.0.0\",\n",
    "    \"ICD\" : {\n",
    "        \"library_path\" : \"libEGL_nvidia.so.0\"\n",
    "    }\n",
    "}\n",
    "\"\"\")\n",
    "\n",
    "# Configure MuJoCo to use the EGL rendering backend (requires GPU)\n",
    "print('Setting environment variable to use GPU rendering:')\n",
    "%env MUJOCO_GL=egl\n",
    "\n",
    "try:\n",
    "  print('Checking that the installation succeeded:')\n",
    "  import mujoco\n",
    "  mujoco.MjModel.from_xml_string('<mujoco/>')\n",
    "except Exception as e:\n",
    "  raise e from RuntimeError(\n",
    "      'Something went wrong during installation. Check the shell output above '\n",
    "      'for more information.\\n'\n",
    "      'If using a hosted Colab runtime, make sure you enable GPU acceleration '\n",
    "      'by going to the Runtime menu and selecting \"Choose runtime type\".')\n",
    "\n",
    "print('Installation successful.')\n",
    "\n",
    "%env CUDA_VISIBLE_DEVICES=1\n",
    "\n",
    "from ambersim.envs.a1 import A1Env\n",
    "from ambersim.base import State\n",
    "from brax import envs\n",
    "import jax\n",
    "from jax import numpy as jp\n",
    "import numpy as np\n",
    "import mujoco\n",
    "from mujoco import mjx\n",
    "\n",
    "# Graphics and plotting.\n",
    "# print('Installing mediapy:')\n",
    "# !command -v ffmpeg >/dev/null || (apt update && apt install -y ffmpeg)\n",
    "# !pip install -q mediapy\n",
    "import mediapy as media\n",
    "\n",
    "from brax.training.agents.ppo import train as ppo\n",
    "from brax.training.agents.ppo import networks as ppo_networks\n",
    "import functools\n",
    "from matplotlib import pyplot as plt\n",
    "\n",
    "from datetime import datetime\n"
   ]
  },
  {
   "cell_type": "code",
   "execution_count": 3,
   "metadata": {},
   "outputs": [],
   "source": [
    "# instantiate the environment\n",
    "env_name = \"a1\"\n",
    "envs.register_environment(\"a1\", A1Env)\n",
    "env = envs.get_environment(env_name)"
   ]
  },
  {
   "cell_type": "code",
   "execution_count": 1,
   "metadata": {},
   "outputs": [
    {
     "ename": "NameError",
     "evalue": "name 'jax' is not defined",
     "output_type": "error",
     "traceback": [
      "\u001b[0;31m---------------------------------------------------------------------------\u001b[0m",
      "\u001b[0;31mNameError\u001b[0m                                 Traceback (most recent call last)",
      "\u001b[1;32m/home/preston/ambersim/examples/a1_ppo.ipynb Cell 3\u001b[0m line \u001b[0;36m2\n\u001b[1;32m      <a href='vscode-notebook-cell://ssh-remote%2Bvulcan/home/preston/ambersim/examples/a1_ppo.ipynb#W3sdnNjb2RlLXJlbW90ZQ%3D%3D?line=0'>1</a>\u001b[0m \u001b[39m# define the jit reset/step functions\u001b[39;00m\n\u001b[0;32m----> <a href='vscode-notebook-cell://ssh-remote%2Bvulcan/home/preston/ambersim/examples/a1_ppo.ipynb#W3sdnNjb2RlLXJlbW90ZQ%3D%3D?line=1'>2</a>\u001b[0m jit_reset \u001b[39m=\u001b[39m jax\u001b[39m.\u001b[39mjit(env\u001b[39m.\u001b[39mreset)\n\u001b[1;32m      <a href='vscode-notebook-cell://ssh-remote%2Bvulcan/home/preston/ambersim/examples/a1_ppo.ipynb#W3sdnNjb2RlLXJlbW90ZQ%3D%3D?line=2'>3</a>\u001b[0m jit_step \u001b[39m=\u001b[39m jax\u001b[39m.\u001b[39mjit(env\u001b[39m.\u001b[39mstep)\n\u001b[1;32m      <a href='vscode-notebook-cell://ssh-remote%2Bvulcan/home/preston/ambersim/examples/a1_ppo.ipynb#W3sdnNjb2RlLXJlbW90ZQ%3D%3D?line=4'>5</a>\u001b[0m \u001b[39m# instantiate the renderer\u001b[39;00m\n",
      "\u001b[0;31mNameError\u001b[0m: name 'jax' is not defined"
     ]
    }
   ],
   "source": [
    "# define the jit reset/step functions\n",
    "jit_reset = jax.jit(env.reset)\n",
    "jit_step = jax.jit(env.step)\n",
    "\n",
    "# instantiate the renderer\n",
    "renderer = mujoco.Renderer(env.model)\n",
    "def get_image(state: State, camera: str) -> np.ndarray:\n",
    "  \"\"\"Renders the environment state.\"\"\"\n",
    "  d = mujoco.MjData(env.model)\n",
    "  # write the mjx.Data into an mjData object\n",
    "  mjx.device_get_into(d, state.pipeline_state)\n",
    "  mujoco.mj_forward(env.model, d)\n",
    "  # use the mjData object to update the renderer\n",
    "  renderer.update_scene(d, camera=camera)\n",
    "  return renderer.render()\n",
    "\n",
    "# initialize the state\n",
    "state = jit_reset(jax.random.PRNGKey(0))\n",
    "rollout = [state]\n",
    "images = [get_image(state, camera='track')]\n",
    "render_every = 2\n",
    "\n",
    "# grab a trajectory\n",
    "for i in range(250):\n",
    "  ctrl = jp.zeros(env.sys.nu)\n",
    "  %time state = jit_step(state, ctrl)\n",
    "  rollout.append(state)\n",
    "  if i % render_every == 0:\n",
    "    images.append(get_image(state, camera='track'))\n",
    "\n",
    "media.show_video(images, fps=1.0 / env.dt)\n",
    "\n",
    "print(len(images))"
   ]
  },
  {
   "cell_type": "code",
   "execution_count": 70,
   "metadata": {},
   "outputs": [
    {
     "data": {
      "text/plain": [
       "(Array([ 0.15101999,  0.5536807 , -1.8687341 , -0.14324486,  0.5489383 ,\n",
       "        -1.8694613 , -0.07420097,  0.86128813, -1.9421877 ,  0.07591714,\n",
       "         0.85418   , -1.9496917 ], dtype=float32),\n",
       " array([ 0. ,  0.9, -1.8,  0. ,  0.9, -1.8,  0. ,  0.9, -1.8,  0. ,  0.9,\n",
       "        -1.8]))"
      ]
     },
     "execution_count": 70,
     "metadata": {},
     "output_type": "execute_result"
    }
   ],
   "source": [
    "# rollout[-1].pipeline_state.qpos[7:]- env._default_ap_pose\n",
    "# env.model.actuator_gaintype = jp.ones_like(env.model.actuator_gaintype)\n",
    "\n",
    "# rollout[-1].pipeline_state.qfrc_actuator\n",
    "rollout[-1].pipeline_state.qpos[7:], env._default_ap_pose\n",
    "# jp.linalg.pinv(rollout[-1].pipeline_state.actuator_moment.T) @ rollout[-1].pipeline_state.qfrc_actuator"
   ]
  },
  {
   "cell_type": "code",
   "execution_count": 4,
   "metadata": {},
   "outputs": [
    {
     "data": {
      "image/png": "[encoded data removed]",
      "text/plain": [
       "<Figure size 640x480 with 1 Axes>"
      ]
     },
     "metadata": {},
     "output_type": "display_data"
    },
    {
     "name": "stderr",
     "output_type": "stream",
     "text": [
      "Exception ignored in: <function _xla_gc_callback at 0x7f864c9aa7a0>\n",
      "Traceback (most recent call last):\n",
      "  File \"/home/preston/miniconda3/envs/ambersim/lib/python3.11/site-packages/jax/_src/lib/__init__.py\", line 101, in _xla_gc_callback\n",
      "    def _xla_gc_callback(*args):\n",
      "    \n",
      "KeyboardInterrupt: \n"
     ]
    }
   ],
   "source": [
    "make_networks_factory = functools.partial(\n",
    "    ppo_networks.make_ppo_networks,\n",
    "        policy_hidden_layer_sizes=(128, 128, 128, 128))\n",
    "train_fn = functools.partial(\n",
    "      ppo.train,\n",
    "      num_timesteps=60_000_000, num_evals=3, reward_scaling=1,\n",
    "      episode_length=1000, normalize_observations=True,\n",
    "      action_repeat=1, unroll_length=20, num_minibatches=8, gae_lambda=0.95,\n",
    "      num_updates_per_batch=4, discounting=0.99, learning_rate=3e-4,\n",
    "      entropy_cost=1e-2, num_envs=4096, batch_size=1024,\n",
    "      network_factory=make_networks_factory,\n",
    "      num_resets_per_eval=10,\n",
    "      seed=0)\n",
    "\n",
    "def progress(num_steps, metrics):\n",
    "  times.append(datetime.now())\n",
    "  x_data.append(num_steps)\n",
    "  y_data.append(metrics['eval/episode_reward'])\n",
    "  ydataerr.append(metrics['eval/episode_reward_std'])\n",
    "\n",
    "  plt.xlim([0, train_fn.keywords['num_timesteps'] * 1.25])\n",
    "  plt.ylim([min_y, max_y])\n",
    "\n",
    "  plt.xlabel('# environment steps')\n",
    "  plt.ylabel('reward per episode')\n",
    "  plt.title(f'y={y_data[-1]:.3f}')\n",
    "\n",
    "  plt.errorbar(\n",
    "      x_data, y_data, yerr=ydataerr)\n",
    "  plt.show()\n",
    "\n",
    "x_data = []\n",
    "y_data = []\n",
    "ydataerr = []\n",
    "times = [datetime.now()]\n",
    "max_y, min_y = 30, 0\n",
    "\n",
    "# Reset environments since internals may be overwritten by tracers from the\n",
    "# domain randomization function.\n",
    "env = envs.get_environment(env_name)\n",
    "eval_env = envs.get_environment(env_name)\n",
    "make_inference_fn, params, _= train_fn(environment=env,\n",
    "                                       progress_fn=progress,\n",
    "                                       eval_env=eval_env)\n",
    "\n",
    "print(f'time to jit: {times[1] - times[0]}')\n",
    "print(f'time to train: {times[-1] - times[1]}')"
   ]
  }
 ],
 "metadata": {
  "kernelspec": {
   "display_name": "ambersim",
   "language": "python",
   "name": "python3"
  },
  "language_info": {
   "codemirror_mode": {
    "name": "ipython",
    "version": 3
   },
   "file_extension": ".py",
   "mimetype": "text/x-python",
   "name": "python",
   "nbconvert_exporter": "python",
   "pygments_lexer": "ipython3",
   "version": "3.11.5"
  }
 },
 "nbformat": 4,
 "nbformat_minor": 2
}
