{
 "cells": [
  {
   "cell_type": "code",
   "execution_count": null,
   "id": "66c8b662-c50c-4125-9b57-b6fae8791411",
   "metadata": {},
   "outputs": [],
   "source": [
    "import functools\n",
    "import jax\n",
    "import os\n",
    "import time\n",
    "# jax.config.update('jax_platform_name', \"cpu\")\n",
    "\n",
    "from datetime import datetime\n",
    "from jax import numpy as jp\n",
    "import matplotlib.pyplot as plt\n",
    "\n",
    "from IPython.display import HTML, clear_output\n",
    "\n",
    "NVIDIA_ICD_CONFIG_PATH = '/usr/share/glvnd/egl_vendor.d/10_nvidia.json'\n",
    "if not os.path.exists(NVIDIA_ICD_CONFIG_PATH):\n",
    "  with open(NVIDIA_ICD_CONFIG_PATH, 'w') as f:\n",
    "    f.write(\"\"\"{\n",
    "    \"file_format_version\" : \"1.0.0\",\n",
    "    \"ICD\" : {\n",
    "        \"library_path\" : \"libEGL_nvidia.so.0\"\n",
    "    }\n",
    "}\n",
    "\"\"\")\n",
    "\n",
    "# Configure MuJoCo to use the EGL rendering backend (requires GPU)\n",
    "print('Setting environment variable to use GPU rendering:')\n",
    "%env MUJOCO_GL=egl\n",
    "%env XLA_PYTHON_CLIENT_PREALLOCATE=false\n",
    "import flax\n",
    "from brax import envs\n",
    "from brax.io import model\n",
    "from brax.io import json\n",
    "from brax.io import html\n",
    "from brax.training.agents.ppo import train as ppo\n",
    "\n",
    "import distutils.util\n",
    "import os\n",
    "import subprocess\n",
    "\n",
    "\n",
    "import jax.numpy as jnp\n",
    "#@title Import packages for plotting and creating graphics\n",
    "import time\n",
    "import itertools\n",
    "import numpy as np\n",
    "from typing import Callable, NamedTuple, Optional, Union, List\n",
    "\n",
    "# Graphics and plotting.\n",
    "import mediapy as media\n",
    "import matplotlib.pyplot as plt\n",
    "\n",
    "# More legible printing from numpy.\n",
    "np.set_printoptions(precision=3, suppress=True, linewidth=100)\n",
    "\n",
    "from ambersim.envs.exo import Exo\n",
    "#\n",
    "env = Exo()"
   ]
  },
  {
   "cell_type": "code",
   "execution_count": null,
   "id": "c3e63d4f-5b5f-4fc1-b408-0634844b3300",
   "metadata": {
    "tags": []
   },
   "outputs": [],
   "source": [
    "jit_env_reset = jax.jit(env.reset)\n",
    "jit_env_step = jax.jit(env.step)\n",
    "\n",
    "# warming up JIT-compiled function\n",
    "print(\"warming up JIT compilation...\")\n",
    "rng = jax.random.PRNGKey(0)\n",
    "# rng = jax.random.split(rng, num_env)\n",
    "\n",
    "start = time.time()\n",
    "state = jit_env_reset(rng)\n",
    "\n",
    "end = time.time()\n",
    "print(f\"compilation time: {end - start}\")"
   ]
  },
  {
   "cell_type": "code",
   "execution_count": null,
   "id": "f368e109-3d7e-440b-a643-351f3f36ea8f",
   "metadata": {},
   "outputs": [],
   "source": [
    "\n",
    "# initial_state['q'] = initial_state['q'].at[2].set(0.945)\n",
    "rollout = []\n",
    "actions = []\n",
    "state = jit_env_reset(rng)\n",
    "tCur = 0\n",
    "for _ in range(100):\n",
    "    start = time.time()\n",
    "    rollout.append(state)\n",
    "    act = jnp.zeros(12)\n",
    "    \n",
    "    state = jit_env_step(state, act)\n",
    "    tCur = tCur + env.dt\n",
    "    end = time.time()\n",
    "    print(f\"step time: {end - start}\")\n"
   ]
  },
  {
   "cell_type": "code",
   "execution_count": null,
   "id": "69a57d94",
   "metadata": {},
   "outputs": [],
   "source": [
    "state.obs[0:2]"
   ]
  },
  {
   "cell_type": "code",
   "execution_count": null,
   "id": "11f58481-f611-4dec-a4b7-1f55276ed1a8",
   "metadata": {},
   "outputs": [],
   "source": [
    "import mujoco\n",
    "from mujoco import mjx\n",
    "def get_image(renderer, env, state, camera):\n",
    "    d = mujoco.MjData(env.model)\n",
    "    # write the mjx.Data into an mjData object\n",
    "    mjx.device_get_into(d, state)\n",
    "    mujoco.mj_forward(env.model, d)\n",
    "    \n",
    "    camera.lookat[0] = d.qpos[0]\n",
    "    camera.lookat[1] = d.qpos[1]\n",
    "    \n",
    "    # use the mjData object to update the renderer\n",
    "    \n",
    "    renderer.update_scene(d, camera=camera)\n",
    "\n",
    "    # time = d.time\n",
    "    # curTime = f\"Time = {time:.3f}\"\n",
    "    # mujoco.mjr_overlay(mujoco.mjtFont.mjFONT_NORMAL,mujoco.mjtGridPos.mjGRID_TOPLEFT,renderer._rect,curTime,'test',renderer._mjr_context)\n",
    "\n",
    "    return renderer.render()\n",
    "\n",
    "env.getRender()\n",
    "images = []\n",
    "for i in range(len(rollout)):\n",
    "    temp_State = rollout[i].pipeline_state\n",
    "    images.append(get_image(env.renderer,env,temp_State,env.camera))\n",
    "\n",
    "media.show_video(images, fps=1.0 / env.dt)"
   ]
  },
  {
   "cell_type": "code",
   "execution_count": null,
   "id": "6f28a1c6",
   "metadata": {},
   "outputs": [],
   "source": [
    "state.pipeline_state.qfrc_actuator"
   ]
  },
  {
   "cell_type": "code",
   "execution_count": null,
   "id": "65171274-47d4-41ff-8a76-422693fd5216",
   "metadata": {
    "tags": []
   },
   "outputs": [],
   "source": [
    "output_file = 'walking_box0.mp4'\n",
    "# Save the video\n",
    "media.write_video(output_file, images,fps=30) "
   ]
  },
  {
   "cell_type": "code",
   "execution_count": null,
   "id": "1067a166-7b94-46c8-b516-630bcc127958",
   "metadata": {
    "tags": []
   },
   "outputs": [],
   "source": [
    "import utils.env_utils as env_utils\n",
    "rng = jax.random.PRNGKey(0)\n",
    "rng = jax.random.split(rng, 5)\n",
    "rand_geom_quat = jax.vmap(updateGeomQuat,in_axes=(None,0,None))(env.sys,jnp.array([0,1,2,3,4]),rng)"
   ]
  },
  {
   "cell_type": "code",
   "execution_count": null,
   "id": "cce808b3-f28e-4c19-8737-88653bfc22f6",
   "metadata": {},
   "outputs": [],
   "source": [
    "# from traj_opt import *\n",
    "jit_env_reset = jax.jit(env.reset2GivenState)\n",
    "jit_env_step = jax.jit(env.step)\n",
    "evalCostFunc = functools.partial(evalCost, exo_behav,jit_env_reset, jit_env_step, env.dt)\n",
    "alpha = exo_behav.alpha\n",
    "costs = evalCostFunc(alpha,1)\n",
    "                "
   ]
  },
  {
   "cell_type": "code",
   "execution_count": null,
   "id": "b631020a-7b49-4dcc-8ce3-ce0761661f28",
   "metadata": {},
   "outputs": [],
   "source": [
    "def evalCost(exo_behav, jit_env_reset, jit_env_step, dt, alpha,step_dur, timesteps = 1):\n",
    "    # rollout = []\n",
    "    costs = []\n",
    "    # jit_env_reset = jax.jit(env.reset2GivenState)\n",
    "    # jit_env_reset_rand = jax.jit(env.reset)\n",
    "    # jit_env_step = jax.jit(env.step)\n",
    "    # jit_env_des = jax.jit(exo_behav.getDesiredGivenBez)\n",
    "    # jit_env_act = jax.jit(exo_behav._PD_control)\n",
    "    # des_state = jit_env_des(alpha,step_dur,tCur)\n",
    "    # pd_torque = jit_env_act(state,des_state)  \n",
    "    # state = jit_env_step(state, pd_torque)\n",
    "\n",
    "    # set it to some random initial state close to the initial guess\n",
    "    # initial_state = exo_behavior.getInitialStateGivenBez(alpha)\n",
    "    initial_state = exo_behav.getInitState()\n",
    "    state = jit_env_reset(initial_state)\n",
    "    tCur = 0\n",
    "    for _ in range(timesteps):\n",
    "        # rollout.append(state.pipeline_state)\n",
    "        des_state = exo_behav.getDesiredGivenBez(alpha,step_dur,tCur)\n",
    "        pd_torque = exo_behav._PD_control(state,des_state)\n",
    "        state = jit_env_step(state, pd_torque)\n",
    "        costs.append(-state.reward)\n",
    "        tCur = tCur + dt\n",
    "    \n",
    "    return jnp.mean(jnp.array(costs))"
   ]
  },
  {
   "cell_type": "code",
   "execution_count": null,
   "id": "e9a88b09-0ee5-455b-ab7a-fee96680d9b3",
   "metadata": {},
   "outputs": [],
   "source": [
    "evalCostFunc = functools.partial(evalCost, exo_behav,jit_env_reset, jit_env_step, env.dt)\n",
    "alpha = exo_behav.alpha\n",
    "costs = evalCostFunc(alpha,1)"
   ]
  },
  {
   "cell_type": "code",
   "execution_count": null,
   "id": "83a28b5c-bde4-4a78-b758-c64a414ed0d4",
   "metadata": {},
   "outputs": [],
   "source": [
    "jax.grad(evalCostFunc, argnums=0)"
   ]
  },
  {
   "cell_type": "code",
   "execution_count": null,
   "id": "81b17401-2fa4-4410-a5a8-4f681b226f59",
   "metadata": {
    "tags": []
   },
   "outputs": [],
   "source": [
    "from jax import jacfwd, jit\n",
    "asdf = jit(jacfwd(evalCostFunc))\n",
    "asdf(jnp.ones((12, 8)), 1)"
   ]
  },
  {
   "cell_type": "code",
   "execution_count": null,
   "id": "3e5c5236-cde0-4de5-861d-c4321e2f5b10",
   "metadata": {
    "tags": []
   },
   "outputs": [],
   "source": [
    "asdf(alpha,step_dur)"
   ]
  },
  {
   "cell_type": "code",
   "execution_count": null,
   "id": "1db37f75-8c57-4a81-8b4a-d3ca9afa4ca3",
   "metadata": {
    "tags": []
   },
   "outputs": [],
   "source": [
    "import time\n",
    "start = time.time()\n",
    "for _ in range(100):\n",
    "    asdf(jnp.ones((12, 8)), 1)\n",
    "end = time.time()\n",
    "total = end - start\n",
    "print(f\"{total=}\")"
   ]
  },
  {
   "cell_type": "code",
   "execution_count": null,
   "id": "02acaf36-046d-4984-9bc0-298122f6b1a3",
   "metadata": {},
   "outputs": [],
   "source": [
    "grad_evalCost(exo_behavior.alpha)"
   ]
  },
  {
   "cell_type": "code",
   "execution_count": null,
   "id": "95704ff2-296b-4195-8e65-9dab6434068e",
   "metadata": {
    "jupyter": {
     "outputs_hidden": true
    },
    "tags": []
   },
   "outputs": [],
   "source": [
    "def grad_evalCost(alpha, step_dur=1):\n",
    "    # Use jax.grad to compute the gradient\n",
    "    grad_fn = jax.grad(evalCostFunc, argnums=0)  # argnums=0 means we're taking the gradient with respect to the first argument (alpha)\n",
    "    return grad_fn(alpha, step_dur)\n",
    "\n",
    "grad_evalCost(alpha)"
   ]
  }
 ],
 "metadata": {
  "kernelspec": {
   "display_name": "Python 3 (ipykernel)",
   "language": "python",
   "name": "python3"
  },
  "language_info": {
   "codemirror_mode": {
    "name": "ipython",
    "version": 3
   },
   "file_extension": ".py",
   "mimetype": "text/x-python",
   "name": "python",
   "nbconvert_exporter": "python",
   "pygments_lexer": "ipython3",
   "version": "3.11.5"
  }
 },
 "nbformat": 4,
 "nbformat_minor": 5
}
